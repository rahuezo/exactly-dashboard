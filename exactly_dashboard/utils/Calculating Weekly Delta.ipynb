{
 "cells": [
  {
   "cell_type": "code",
   "execution_count": 156,
   "metadata": {},
   "outputs": [],
   "source": [
    "from math import floor\n",
    "values = [0, 10, 10, 30, 35, 60, 90, 150]\n",
    "N = 1\n",
    "\n",
    "# 10\t100%\n",
    "# 30\t67%\n",
    "# 35\t20%\n",
    "# 60\t83%\n",
    "# 90\t55%\n",
    "# 150\t67%"
   ]
  },
  {
   "cell_type": "code",
   "execution_count": 151,
   "metadata": {},
   "outputs": [],
   "source": [
    "def get_delta_percent(history): \n",
    "    latest_delta = history[-1] - history[-2]\n",
    "\n",
    "    if len(history) > 1: \n",
    "        change = float(history[-1] - history[-3])\n",
    "    else:\n",
    "        change = float(history[-1] - history[-2])\n",
    "\n",
    "    return latest_delta / change"
   ]
  },
  {
   "cell_type": "code",
   "execution_count": 152,
   "metadata": {},
   "outputs": [
    {
     "name": "stdout",
     "output_type": "stream",
     "text": [
      "rgb(80,175,80)\n"
     ]
    }
   ],
   "source": [
    "def delta_to_color(delta_percent, red=80, blue=80):\n",
    "    green = int(red + (255 - red)*delta_percent)\n",
    "    return 'rgb({},{},{})'.format(red, green, blue)\n",
    "\n",
    "print delta_to_color(delta/float(change))"
   ]
  },
  {
   "cell_type": "code",
   "execution_count": 162,
   "metadata": {},
   "outputs": [
    {
     "data": {
      "text/plain": [
       "0.4"
      ]
     },
     "execution_count": 162,
     "metadata": {},
     "output_type": "execute_result"
    }
   ],
   "source": [
    "values = [0, 10, 30, 35, 60, 90, 150, 190]\n",
    "get_delta_percent(values)"
   ]
  },
  {
   "cell_type": "code",
   "execution_count": null,
   "metadata": {},
   "outputs": [],
   "source": []
  }
 ],
 "metadata": {
  "kernelspec": {
   "display_name": "Python 2",
   "language": "python",
   "name": "python2"
  },
  "language_info": {
   "codemirror_mode": {
    "name": "ipython",
    "version": 2
   },
   "file_extension": ".py",
   "mimetype": "text/x-python",
   "name": "python",
   "nbconvert_exporter": "python",
   "pygments_lexer": "ipython2",
   "version": "2.7.14"
  }
 },
 "nbformat": 4,
 "nbformat_minor": 2
}
